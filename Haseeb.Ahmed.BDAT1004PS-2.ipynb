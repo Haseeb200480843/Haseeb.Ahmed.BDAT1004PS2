{
 "cells": [
  {
   "cell_type": "markdown",
   "id": "176ce167",
   "metadata": {},
   "source": [
    "# Question 1\n"
   ]
  },
  {
   "cell_type": "code",
   "execution_count": 63,
   "id": "81484b61",
   "metadata": {},
   "outputs": [
    {
     "data": {
      "text/plain": [
       "6"
      ]
     },
     "execution_count": 63,
     "metadata": {},
     "output_type": "execute_result"
    }
   ],
   "source": [
    "a = 0\n",
    "\n",
    "def b():\n",
    " global a\n",
    " a = c(a)\n",
    "    \n",
    "def c(a):\n",
    " return a + 2\n",
    "b()   # Global is a keyword which is used to make the variale scope globally i.e it  belongs to all the class & functions\n",
    "b()      # whenever b() will be called it sends 'a' value to value to function c() & 2 will be added and returned to b() which will be stored in global variable 'a'.\n",
    "b()      # 'a' is global variable, its value will be incremented by 2 every time for every call\n",
    "a      # first b() call-2, second b() call-4, third b() call-6 and finally it will return a=6"
   ]
  },
  {
   "cell_type": "markdown",
   "id": "340db4d0",
   "metadata": {},
   "source": [
    "# Question 2:"
   ]
  },
  {
   "cell_type": "code",
   "execution_count": 2,
   "id": "7f43c115",
   "metadata": {},
   "outputs": [
    {
     "name": "stdout",
     "output_type": "stream",
     "text": [
      "123\n",
      "File cannot be read as a text file\n"
     ]
    }
   ],
   "source": [
    "def file_Length(file_name):\n",
    "    try:\n",
    "        file = open(file_name , \"r\")\n",
    "        contents = file.read()\n",
    "        print(len(contents))\n",
    "        file.close()\n",
    "    except FileNotFoundError:\n",
    "        print('File {} not found.'.format(file_name))\n",
    "    except:\n",
    "        print(\"File cannot be read\")\n",
    "filename = (r\"C:\\Users\\hasee\\Desktop\\fileLength.txt\")\n",
    "\n",
    "file_Length(filename)\n",
    "\n",
    "try:\n",
    "    fileLength(midterm.py)\n",
    "except NameError:\n",
    "        print(\"File cannot be read as a text file\")"
   ]
  },
  {
   "cell_type": "markdown",
   "id": "dbd2768c",
   "metadata": {},
   "source": [
    "# Question 3:\n"
   ]
  },
  {
   "cell_type": "code",
   "execution_count": 1,
   "id": "33ea0f2a",
   "metadata": {},
   "outputs": [
    {
     "name": "stdout",
     "output_type": "stream",
     "text": [
      "['doll', 'firetruck', 'kitten']\n"
     ]
    }
   ],
   "source": [
    "class Marsupial():\n",
    "    pouch = []\n",
    "    def __init__(self):\n",
    "        self.pouch = []\n",
    "    def put_in_pouch(self, thing):\n",
    "        self.pouch.append(thing)\n",
    "    def pouch_contents(self):\n",
    "        print(self.pouch)\n",
    "m = Marsupial()\n",
    "m.put_in_pouch('doll')\n",
    "m.put_in_pouch('firetruck')\n",
    "m.put_in_pouch('kitten')\n",
    "m.pouch_contents()\n",
    "\n"
   ]
  },
  {
   "cell_type": "code",
   "execution_count": 10,
   "id": "27a6823f",
   "metadata": {},
   "outputs": [
    {
     "name": "stdout",
     "output_type": "stream",
     "text": [
      "I am a Kangaroo located at coordinates (0,0)\n",
      "['doll', 'firetruck', 'kitten']\n",
      "I am a Kangaroo located at coordinates (3,0)\n"
     ]
    }
   ],
   "source": [
    "class Kangaroo(Marsupial):\n",
    "    x = 0\n",
    "    y = 0\n",
    "    def __init__(self, x, y):\n",
    "        Marsupial.__init__(self)\n",
    "        self.x = x\n",
    "        self.y = y\n",
    "    def jump(self, x, y):\n",
    "        self.x += x\n",
    "        self.y += y\n",
    "    def __str__(self):\n",
    "        return 'I am a Kangaroo located at coordinates ({},{})'.format(self.x, self.y)\n",
    "k = Kangaroo(0,0)\n",
    "print(k)\n",
    "k.put_in_pouch('doll')\n",
    "k.put_in_pouch('firetruck')\n",
    "k.put_in_pouch('kitten')\n",
    "k.pouch_contents()\n",
    "k.jump(1,0)\n",
    "k.jump(1,0)\n",
    "k.jump(1,0)\n",
    "print(k)\n"
   ]
  },
  {
   "cell_type": "markdown",
   "id": "198e23ad",
   "metadata": {},
   "source": [
    "# Question 4:\n",
    "\n"
   ]
  },
  {
   "cell_type": "code",
   "execution_count": 11,
   "id": "9e870bf0",
   "metadata": {},
   "outputs": [
    {
     "name": "stdout",
     "output_type": "stream",
     "text": [
      "1\n"
     ]
    }
   ],
   "source": [
    "def collatz(x):\n",
    "    if x <= 1:\n",
    "        print(1)\n",
    "    elif x % 2 == 0:\n",
    "        print(int(x))\n",
    "        return collatz(x/2)\n",
    "    else:\n",
    "        print(int(x))\n",
    "        return collatz(3*x + 1)\n",
    "collatz(1)"
   ]
  },
  {
   "cell_type": "code",
   "execution_count": 12,
   "id": "e3e97dbf",
   "metadata": {},
   "outputs": [
    {
     "name": "stdout",
     "output_type": "stream",
     "text": [
      "10\n",
      "5\n",
      "16\n",
      "8\n",
      "4\n",
      "2\n",
      "1\n"
     ]
    }
   ],
   "source": [
    "def collatz(x):\n",
    "    if x <= 1:\n",
    "        print(1)\n",
    "    elif x % 2 == 0:\n",
    "        print(int(x))\n",
    "        return collatz(x/2)\n",
    "    else:\n",
    "        print(int(x))\n",
    "        return collatz(3*x + 1)\n",
    "collatz(10)"
   ]
  },
  {
   "cell_type": "markdown",
   "id": "00ec69eb",
   "metadata": {},
   "source": [
    "# Question 5:"
   ]
  },
  {
   "cell_type": "code",
   "execution_count": 13,
   "id": "2f697e73",
   "metadata": {},
   "outputs": [
    {
     "name": "stdout",
     "output_type": "stream",
     "text": [
      "0\n"
     ]
    }
   ],
   "source": [
    "def binary(n):\n",
    "    if n > 1:\n",
    "       binary(n//2)\n",
    "    print(n % 2)\n",
    "binary(0)"
   ]
  },
  {
   "cell_type": "code",
   "execution_count": 14,
   "id": "0e6d6f44",
   "metadata": {},
   "outputs": [
    {
     "name": "stdout",
     "output_type": "stream",
     "text": [
      "1\n"
     ]
    }
   ],
   "source": [
    "def binary(n):\n",
    "    if n > 1:\n",
    "       binary(n//2)\n",
    "    print(n % 2)\n",
    "binary(1)"
   ]
  },
  {
   "cell_type": "code",
   "execution_count": 15,
   "id": "f22f8341",
   "metadata": {},
   "outputs": [
    {
     "name": "stdout",
     "output_type": "stream",
     "text": [
      "11"
     ]
    }
   ],
   "source": [
    "def binary(n):\n",
    "    if n > 1:\n",
    "       binary(n//2)\n",
    "    print(n % 2,end = '')\n",
    "binary(3)"
   ]
  },
  {
   "cell_type": "code",
   "execution_count": 16,
   "id": "ac2a5363",
   "metadata": {},
   "outputs": [
    {
     "name": "stdout",
     "output_type": "stream",
     "text": [
      "1001"
     ]
    }
   ],
   "source": [
    "def binary(n):\n",
    "    if n > 1:\n",
    "       binary(n//2)\n",
    "    print(n % 2,end = '')\n",
    "binary(9)"
   ]
  },
  {
   "cell_type": "markdown",
   "id": "cece0709",
   "metadata": {},
   "source": [
    "# Question 6:"
   ]
  },
  {
   "cell_type": "code",
   "execution_count": 61,
   "id": "1ac5785b",
   "metadata": {},
   "outputs": [
    {
     "name": "stdout",
     "output_type": "stream",
     "text": [
      " W3C Mission\n",
      "  Principles\n",
      "  \n",
      " \n",
      "\n",
      "\n",
      "\n",
      "  \n",
      "\n"
     ]
    }
   ],
   "source": [
    "from html.parser import HTMLParser\n",
    "\n",
    "class HeadingParser(HTMLParser):\n",
    "    headings=['h1', 'h2', 'h3', 'h4', 'h5', 'h6']\n",
    "    flag = 0\n",
    "    def handle_starttag(self, tag, attrs):\n",
    "        if tag in self.headings:\n",
    "            self.spaces = int(tag[1])\n",
    "            self.flag = 1\n",
    "           \n",
    "    def handle_endtag(self, tag):\n",
    "        if tag == 'h1':\n",
    "            self.flag = 0\n",
    "            \n",
    "    def handle_data(self, data):\n",
    "        if self.flag:\n",
    "            print(data.rjust(len(data) + self.spaces))\n",
    "            \n",
    "            \n",
    "infile = open(\"C:\\\\Users\\\\hasee\\\\Desktop\\\\w3c.html\")\n",
    "content = infile.read()\n",
    "infile.close()\n",
    "hp = HeadingParser()\n",
    "hp.feed(content)"
   ]
  },
  {
   "cell_type": "markdown",
   "id": "690da725",
   "metadata": {},
   "source": [
    "# Question 7:\n"
   ]
  },
  {
   "cell_type": "code",
   "execution_count": 24,
   "id": "47f90eab",
   "metadata": {},
   "outputs": [
    {
     "name": "stdout",
     "output_type": "stream",
     "text": [
      "<Response [404]>\n",
      "http://reed.cs.depaul.edu/lperkovic/csc242/test1.html\n"
     ]
    }
   ],
   "source": [
    "import requests \n",
    "def webdir(url,depth,indent):\n",
    "    base_url = \"http://reed.cs.depaul.edu/lperkovic/csc242/test1.html\"\n",
    "    response = requests.get(url)\n",
    "\n",
    "\n",
    "print(response) \n",
    "print(response.url)\n",
    "\n"
   ]
  },
  {
   "cell_type": "markdown",
   "id": "ac027961",
   "metadata": {},
   "source": [
    "# Question 8:"
   ]
  },
  {
   "cell_type": "code",
   "execution_count": 20,
   "id": "84ef153a",
   "metadata": {},
   "outputs": [
    {
     "data": {
      "text/plain": [
       "[('Mumbai', 'India', 'Winter', 24.8, 5.9),\n",
       " ('Mumbai', 'India', 'Spring', 28.4, 16.2),\n",
       " ('Mumbai', 'India', 'Summer', 27.9, 1549.4),\n",
       " ('Mumbai', 'India', 'Fall', 27.6, 346.0),\n",
       " ('London', 'United Kindom', 'Winter', 4.2, 207.7),\n",
       " ('London', 'United Kindom', 'Spring', 8.3, 169.6),\n",
       " ('London', 'United Kindom', 'Summer', 15.7, 157.0),\n",
       " ('London', 'United Kindom', 'Fall', 10.4, 218.5),\n",
       " ('Cairo', 'Egypt', 'Winter', 13.6, 16.5),\n",
       " ('Cairo', 'Egypt', 'Spring', 20.7, 6.5),\n",
       " ('Cairo', 'Egypt', 'Summer', 27.7, 0.1),\n",
       " ('Cairo', 'Egypt', 'Fall', 22.2, 4.5)]"
      ]
     },
     "execution_count": 20,
     "metadata": {},
     "output_type": "execute_result"
    }
   ],
   "source": [
    "import sqlite3\n",
    "con = sqlite3.connect('FILE.db')\n",
    "cur = con.cursor()\n",
    "cur.execute(\"CREATE TABLE IF NOT EXISTS WORLD (City text, Country text, Season text, Temperature real, Rainfall real)\")\n",
    "cur.execute(\"INSERT INTO WORLD VALUES ('Mumbai', 'India', 'Winter', 24.8, 5.9), ('Mumbai','India', 'Spring', 28.4, 16.2), ('Mumbai','India', 'Summer', 27.9, 1549.4), ('Mumbai','India', 'Fall', 27.6, 346.0)\")\n",
    "cur.execute(\"INSERT INTO WORLD VALUES ('London', 'United Kindom', 'Winter', 4.2, 207.7), ('London', 'United Kindom', 'Spring', 8.3, 169.6), ('London', 'United Kindom', 'Summer', 15.7, 157.0), ('London', 'United Kindom', 'Fall', 10.4, 218.5)\")\n",
    "cur.execute(\"INSERT INTO WORLD VALUES ('Cairo', 'Egypt', 'Winter', 13.6, 16.5), ('Cairo', 'Egypt', 'Spring', 20.7, 6.5), ('Cairo', 'Egypt', 'Summer', 27.7, 0.1), ('Cairo', 'Egypt', 'Fall', 22.2, 4.5)\")\n",
    "cur.execute('SELECT * FROM WORLD')\n",
    "cur.fetchall()"
   ]
  },
  {
   "cell_type": "markdown",
   "id": "2a07bcbd",
   "metadata": {},
   "source": [
    "# Question 8a:"
   ]
  },
  {
   "cell_type": "code",
   "execution_count": 21,
   "id": "72bee588",
   "metadata": {},
   "outputs": [
    {
     "data": {
      "text/plain": [
       "[(24.8,),\n",
       " (28.4,),\n",
       " (27.9,),\n",
       " (27.6,),\n",
       " (4.2,),\n",
       " (8.3,),\n",
       " (15.7,),\n",
       " (10.4,),\n",
       " (13.6,),\n",
       " (20.7,),\n",
       " (27.7,),\n",
       " (22.2,)]"
      ]
     },
     "execution_count": 21,
     "metadata": {},
     "output_type": "execute_result"
    }
   ],
   "source": [
    "cur.execute(\"SELECT Temperature FROM WORLD\")\n",
    "cur.fetchall()"
   ]
  },
  {
   "cell_type": "markdown",
   "id": "d7fb8656",
   "metadata": {},
   "source": [
    "# 8b:"
   ]
  },
  {
   "cell_type": "code",
   "execution_count": 22,
   "id": "2a2848d8",
   "metadata": {},
   "outputs": [
    {
     "data": {
      "text/plain": [
       "[('Mumbai',), ('London',), ('Cairo',)]"
      ]
     },
     "execution_count": 22,
     "metadata": {},
     "output_type": "execute_result"
    }
   ],
   "source": [
    "cur.execute(\"SELECT distinct(City) FROM WORLD\")\n",
    "cur.fetchall()"
   ]
  },
  {
   "cell_type": "markdown",
   "id": "f542b31c",
   "metadata": {},
   "source": [
    "# 8c:"
   ]
  },
  {
   "cell_type": "code",
   "execution_count": 23,
   "id": "62cc3478",
   "metadata": {},
   "outputs": [
    {
     "data": {
      "text/plain": [
       "[('Mumbai', 'India', 'Winter', 24.8, 5.9),\n",
       " ('Mumbai', 'India', 'Spring', 28.4, 16.2),\n",
       " ('Mumbai', 'India', 'Summer', 27.9, 1549.4),\n",
       " ('Mumbai', 'India', 'Fall', 27.6, 346.0)]"
      ]
     },
     "execution_count": 23,
     "metadata": {},
     "output_type": "execute_result"
    }
   ],
   "source": [
    "cur.execute(\"SELECT * FROM WORLD where Country = 'India'\")\n",
    "cur.fetchall()\n"
   ]
  },
  {
   "cell_type": "markdown",
   "id": "c8592cef",
   "metadata": {},
   "source": [
    "# 8d:"
   ]
  },
  {
   "cell_type": "code",
   "execution_count": 24,
   "id": "3ae63b42",
   "metadata": {},
   "outputs": [
    {
     "data": {
      "text/plain": [
       "[('Mumbai', 'India', 'Fall', 27.6, 346.0),\n",
       " ('London', 'United Kindom', 'Fall', 10.4, 218.5),\n",
       " ('Cairo', 'Egypt', 'Fall', 22.2, 4.5)]"
      ]
     },
     "execution_count": 24,
     "metadata": {},
     "output_type": "execute_result"
    }
   ],
   "source": [
    "cur.execute(\"SELECT * FROM WORLD where Season = 'Fall'\")\n",
    "cur.fetchall()"
   ]
  },
  {
   "cell_type": "markdown",
   "id": "1865cfd6",
   "metadata": {},
   "source": [
    "# 8e:\n"
   ]
  },
  {
   "cell_type": "code",
   "execution_count": 25,
   "id": "758f4a5b",
   "metadata": {},
   "outputs": [
    {
     "data": {
      "text/plain": [
       "[('Mumbai', 'India', 'Fall', 257.40000000000003)]"
      ]
     },
     "execution_count": 25,
     "metadata": {},
     "output_type": "execute_result"
    }
   ],
   "source": [
    "cur.execute(\"SELECT City, Country, Season, AVG(Rainfall) FROM WORLD where Rainfall >= 200 and Rainfall <= 400\")\n",
    "cur.fetchall()"
   ]
  },
  {
   "cell_type": "markdown",
   "id": "f1e09884",
   "metadata": {},
   "source": [
    "# 8f:"
   ]
  },
  {
   "cell_type": "code",
   "execution_count": 26,
   "id": "83eba30c",
   "metadata": {},
   "outputs": [
    {
     "data": {
      "text/plain": [
       "[('Cairo', 'Egypt', 23.53333333333333),\n",
       " ('Mumbai', 'India', 27.174999999999997)]"
      ]
     },
     "execution_count": 26,
     "metadata": {},
     "output_type": "execute_result"
    }
   ],
   "source": [
    "cur.execute(\"SELECT City,Country, AVG(Temperature) FROM WORLD WHERE Temperature > 20.0  GROUP BY City, Country ORDER BY Temperature ASC\")\n",
    "cur.fetchall()"
   ]
  },
  {
   "cell_type": "markdown",
   "id": "5cfe0208",
   "metadata": {},
   "source": [
    "# 8g:"
   ]
  },
  {
   "cell_type": "code",
   "execution_count": 27,
   "id": "a9697bb5",
   "metadata": {},
   "outputs": [
    {
     "data": {
      "text/plain": [
       "[(27.6,)]"
      ]
     },
     "execution_count": 27,
     "metadata": {},
     "output_type": "execute_result"
    }
   ],
   "source": [
    "cur.execute(\"SELECT SUM(Rainfall) FROM WORLD WHERE City = 'Cairo'\")\n",
    "cur.fetchall()"
   ]
  },
  {
   "cell_type": "markdown",
   "id": "637cc147",
   "metadata": {},
   "source": [
    "# 8h:"
   ]
  },
  {
   "cell_type": "code",
   "execution_count": 28,
   "id": "62672b30",
   "metadata": {},
   "outputs": [
    {
     "data": {
      "text/plain": [
       "[('Fall', 569.0),\n",
       " ('Spring', 192.29999999999998),\n",
       " ('Summer', 1706.5),\n",
       " ('Winter', 230.1)]"
      ]
     },
     "execution_count": 28,
     "metadata": {},
     "output_type": "execute_result"
    }
   ],
   "source": [
    "cur.execute(\"SELECT Season, SUM(Rainfall) FROM WORLD GROUP BY Season\")\n",
    "cur.fetchall()\n"
   ]
  },
  {
   "cell_type": "markdown",
   "id": "809c245b",
   "metadata": {},
   "source": [
    "# Question 9a:"
   ]
  },
  {
   "cell_type": "code",
   "execution_count": 29,
   "id": "72b23f3a",
   "metadata": {},
   "outputs": [
    {
     "name": "stdout",
     "output_type": "stream",
     "text": [
      "['THE', 'QUICK', 'BROWN', 'FOX', 'JUMPS', 'OVER', 'THE', 'LAZY', 'DOG']\n"
     ]
    }
   ],
   "source": [
    "words = ['The', 'quick', 'brown', 'fox', 'jumps', 'over',\n",
    "'the', 'lazy', 'dog']\n",
    "list_UpperCase = [item.upper() for item in words]\n",
    "print(list_UpperCase)"
   ]
  },
  {
   "cell_type": "markdown",
   "id": "89efbe62",
   "metadata": {},
   "source": [
    "# 9b:"
   ]
  },
  {
   "cell_type": "code",
   "execution_count": 30,
   "id": "40c2a55f",
   "metadata": {},
   "outputs": [
    {
     "name": "stdout",
     "output_type": "stream",
     "text": [
      "['the', 'quick', 'brown', 'fox', 'jumps', 'over', 'the', 'lazy', 'dog']\n"
     ]
    }
   ],
   "source": [
    "words = ['The', 'quick', 'brown', 'fox', 'jumps', 'over',\n",
    "'the', 'lazy', 'dog']\n",
    "list_LowerCase = [item.lower() for item in words]\n",
    "print(list_LowerCase)"
   ]
  },
  {
   "cell_type": "markdown",
   "id": "718f77d8",
   "metadata": {},
   "source": [
    "# 9c:"
   ]
  },
  {
   "cell_type": "code",
   "execution_count": 31,
   "id": "5b2a5315",
   "metadata": {},
   "outputs": [
    {
     "name": "stdout",
     "output_type": "stream",
     "text": [
      "[3, 5, 5, 3, 5, 4, 3, 4, 3]\n"
     ]
    }
   ],
   "source": [
    "words = ['The', 'quick', 'brown', 'fox', 'jumps', 'over',\n",
    "'the', 'lazy', 'dog']\n",
    "list_LengthOfItem = [len(item) for item in words]\n",
    "print(list_LengthOfItem)"
   ]
  },
  {
   "cell_type": "markdown",
   "id": "cc256ee4",
   "metadata": {},
   "source": [
    "# 9d:"
   ]
  },
  {
   "cell_type": "code",
   "execution_count": 32,
   "id": "52efa51c",
   "metadata": {},
   "outputs": [
    {
     "name": "stdout",
     "output_type": "stream",
     "text": [
      "[['THE', 'the', 3], ['QUICK', 'quick', 5], ['BROWN', 'brown', 5], ['FOX', 'fox', 3], ['JUMPS', 'jumps', 5], ['OVER', 'over', 4], ['THE', 'the', 3], ['LAZY', 'lazy', 4], ['DOG', 'dog', 3]]\n"
     ]
    }
   ],
   "source": [
    "words = ['The', 'quick', 'brown', 'fox', 'jumps', 'over',\n",
    "'the', 'lazy', 'dog']\n",
    "list_UpperLowerLength = [[item.upper(), item.lower(), len(item)] for item in words]\n",
    "print(list_UpperLowerLength)"
   ]
  },
  {
   "cell_type": "markdown",
   "id": "5f5e9574",
   "metadata": {},
   "source": [
    "# 9e: "
   ]
  },
  {
   "cell_type": "code",
   "execution_count": 33,
   "id": "7bcce794",
   "metadata": {},
   "outputs": [
    {
     "name": "stdout",
     "output_type": "stream",
     "text": [
      "['quick', 'brown', 'jumps', 'over', 'lazy']\n"
     ]
    }
   ],
   "source": [
    "words = ['The', 'quick', 'brown', 'fox', 'jumps', 'over',\n",
    "'the', 'lazy', 'dog']\n",
    "list_Containing4OrMoreChar = [item for item in words if len(item) > 3]\n",
    "print(list_Containing4OrMoreChar)"
   ]
  },
  {
   "cell_type": "code",
   "execution_count": null,
   "id": "d6a70e4f",
   "metadata": {},
   "outputs": [],
   "source": []
  }
 ],
 "metadata": {
  "kernelspec": {
   "display_name": "Python 3",
   "language": "python",
   "name": "python3"
  },
  "language_info": {
   "codemirror_mode": {
    "name": "ipython",
    "version": 3
   },
   "file_extension": ".py",
   "mimetype": "text/x-python",
   "name": "python",
   "nbconvert_exporter": "python",
   "pygments_lexer": "ipython3",
   "version": "3.8.8"
  }
 },
 "nbformat": 4,
 "nbformat_minor": 5
}
